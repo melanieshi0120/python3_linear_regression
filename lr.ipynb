countries = ['China','Korea','Japan'.'Russia','Thailand']

