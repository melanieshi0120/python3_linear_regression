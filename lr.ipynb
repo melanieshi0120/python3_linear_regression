countries = ['China','Korea','Japan'.'Russia','Thailand','Cuba']

